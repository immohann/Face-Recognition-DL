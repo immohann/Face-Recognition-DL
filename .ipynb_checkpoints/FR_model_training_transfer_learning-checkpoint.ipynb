{
 "cells": [
  {
   "cell_type": "code",
   "execution_count": 0,
   "metadata": {
    "colab": {
     "base_uri": "https://localhost:8080/",
     "height": 488
    },
    "colab_type": "code",
    "id": "wX-Z5wz-AOcv",
    "outputId": "f058400e-f167-42f0-8281-1d742ed9a80f"
   },
   "outputs": [
    {
     "name": "stdout",
     "output_type": "stream",
     "text": [
      "\n",
      "7-Zip [64] 16.02 : Copyright (c) 1999-2016 Igor Pavlov : 2016-05-21\n",
      "p7zip Version 16.02 (locale=en_US.UTF-8,Utf16=on,HugeFiles=on,64 bits,2 CPUs Intel(R) Xeon(R) CPU @ 2.30GHz (306F0),ASM,AES-NI)\n",
      "\n",
      "Scanning the drive for archives:\n",
      "  0M Scan /content/drive/My Drive/FaceRecognition with OpenCV and Keras/\b\b\b\b\b\b\b\b\b\b\b\b\b\b\b\b\b\b\b\b\b\b\b\b\b\b\b\b\b\b\b\b\b\b\b\b\b\b\b\b\b\b\b\b\b\b\b\b\b\b\b\b\b\b\b\b\b\b\b\b\b\b\b\b\b\b\b\b\b\b\b\b                                                                        \b\b\b\b\b\b\b\b\b\b\b\b\b\b\b\b\b\b\b\b\b\b\b\b\b\b\b\b\b\b\b\b\b\b\b\b\b\b\b\b\b\b\b\b\b\b\b\b\b\b\b\b\b\b\b\b\b\b\b\b\b\b\b\b\b\b\b\b\b\b\b\b1 file, 22991833 bytes (22 MiB)\n",
      "\n",
      "Extracting archive: /content/drive/My Drive/FaceRecognition with OpenCV and Keras/data_face_recog.7z\n",
      "--\n",
      "Path = /content/drive/My Drive/FaceRecognition with OpenCV and Keras/data_face_recog.7z\n",
      "Type = 7z\n",
      "Physical Size = 22991833\n",
      "Headers Size = 8229\n",
      "Method = LZMA:23\n",
      "Solid = +\n",
      "Blocks = 1\n",
      "\n",
      "  0%\b\b\b\b    \b\b\b\b 13%\b\b\b\b    \b\b\b\b\n",
      "Would you like to replace the existing file:\n",
      "  Path:     ./data_face_recog/train/Dwayne/1.jpg\n",
      "  Size:     38825 bytes (38 KiB)\n",
      "  Modified: 2020-05-07 14:25:08\n",
      "with the file from archive:\n",
      "  Path:     data_face_recog/train/Dwayne/1.jpg\n",
      "  Size:     38825 bytes (38 KiB)\n",
      "  Modified: 2020-05-07 14:25:08\n",
      "? (Y)es / (N)o / (A)lways / (S)kip all / A(u)to rename all / (Q)uit? "
     ]
    }
   ],
   "source": [
    "!7z x '/content/drive/My Drive/FaceRecognition with OpenCV and Keras/data_face_recog.7z'"
   ]
  },
  {
   "cell_type": "code",
   "execution_count": 1,
   "metadata": {
    "colab": {
     "base_uri": "https://localhost:8080/",
     "height": 34
    },
    "colab_type": "code",
    "executionInfo": {
     "elapsed": 2809,
     "status": "ok",
     "timestamp": 1588872354469,
     "user": {
      "displayName": "Dwayne Fernandes",
      "photoUrl": "",
      "userId": "16326633927980403023"
     },
     "user_tz": -330
    },
    "id": "B4JW598GAuEH",
    "outputId": "9fd2b48a-83bc-40c6-847e-ea106f2ac6b7"
   },
   "outputs": [
    {
     "name": "stderr",
     "output_type": "stream",
     "text": [
      "Using TensorFlow backend.\n"
     ]
    }
   ],
   "source": [
    "\n",
    "## This script is for the training process \n",
    "\n",
    "# Necessary packages\n",
    "from keras.layers import Lambda, Input, Flatten, Dense\n",
    "from keras.models import Model\n",
    "from keras.applications.vgg16 import VGG16, preprocess_input\n",
    "from keras.preprocessing import image\n",
    "from keras.preprocessing.image import ImageDataGenerator\n",
    "from keras.models import Sequential\n",
    "import numpy as np\n",
    "from glob import glob\n",
    "import matplotlib.pyplot as plt"
   ]
  },
  {
   "cell_type": "code",
   "execution_count": 0,
   "metadata": {
    "colab": {},
    "colab_type": "code",
    "id": "p0Vj97rzC0Lk"
   },
   "outputs": [],
   "source": [
    "# resize all images\n",
    "image_size = [224,224]\n",
    "\n",
    "# path to train and test folders\n",
    "train_path = '/content/data_face_recog/train'\n",
    "val_path = '/content/data_face_recog/test'"
   ]
  },
  {
   "cell_type": "code",
   "execution_count": 0,
   "metadata": {
    "colab": {},
    "colab_type": "code",
    "id": "Z0Epeh5EDJZq"
   },
   "outputs": [],
   "source": [
    "# add preprocessing layer to the from of VGG\n",
    "vgg = VGG16(\n",
    "    # 3 for the RGB channel\n",
    "    input_shape = image_size + [3],\n",
    "    weights = 'imagenet',\n",
    "    include_top = False)\n",
    "\n",
    "# Don't train starting layers\n",
    "for layer in vgg.layers:\n",
    "  layer.trainable = False"
   ]
  },
  {
   "cell_type": "code",
   "execution_count": 4,
   "metadata": {
    "colab": {
     "base_uri": "https://localhost:8080/",
     "height": 34
    },
    "colab_type": "code",
    "executionInfo": {
     "elapsed": 3397,
     "status": "ok",
     "timestamp": 1588872355116,
     "user": {
      "displayName": "Dwayne Fernandes",
      "photoUrl": "",
      "userId": "16326633927980403023"
     },
     "user_tz": -330
    },
    "id": "0UcRN4gpD1WW",
    "outputId": "8ed0e82d-0a08-41e3-d41a-56d4fa9eea27"
   },
   "outputs": [
    {
     "name": "stdout",
     "output_type": "stream",
     "text": [
      "Number of classes: 5\n"
     ]
    }
   ],
   "source": [
    "# useful for getting number of classes\n",
    "folders = glob('/content/data_face_recog/train/*')\n",
    "print(f'Number of classes: {len(folders)}')"
   ]
  },
  {
   "cell_type": "code",
   "execution_count": 0,
   "metadata": {
    "colab": {},
    "colab_type": "code",
    "id": "KqeQWVX8D_QC"
   },
   "outputs": [],
   "source": [
    "# Custom layers\n",
    "\n",
    "x = Flatten()(vgg.output)\n",
    "prediction = Dense(len(folders), activation = 'softmax')(x)"
   ]
  },
  {
   "cell_type": "code",
   "execution_count": 6,
   "metadata": {
    "colab": {
     "base_uri": "https://localhost:8080/",
     "height": 71
    },
    "colab_type": "code",
    "executionInfo": {
     "elapsed": 3372,
     "status": "ok",
     "timestamp": 1588872355118,
     "user": {
      "displayName": "Dwayne Fernandes",
      "photoUrl": "",
      "userId": "16326633927980403023"
     },
     "user_tz": -330
    },
    "id": "_OvUnluiFRfC",
    "outputId": "468c8ef7-093c-4549-9bb7-9f798662f6e7"
   },
   "outputs": [
    {
     "name": "stderr",
     "output_type": "stream",
     "text": [
      "/usr/local/lib/python3.6/dist-packages/ipykernel_launcher.py:2: UserWarning: Update your `Model` call to the Keras 2 API: `Model(inputs=Tensor(\"in..., outputs=Tensor(\"de...)`\n",
      "  \n"
     ]
    }
   ],
   "source": [
    "# Model\n",
    "\n",
    "model = Model(inputs = vgg.input, output = prediction)"
   ]
  },
  {
   "cell_type": "code",
   "execution_count": 7,
   "metadata": {
    "colab": {
     "base_uri": "https://localhost:8080/",
     "height": 884
    },
    "colab_type": "code",
    "executionInfo": {
     "elapsed": 3359,
     "status": "ok",
     "timestamp": 1588872355119,
     "user": {
      "displayName": "Dwayne Fernandes",
      "photoUrl": "",
      "userId": "16326633927980403023"
     },
     "user_tz": -330
    },
    "id": "gWFyR7IeFikt",
    "outputId": "b1d1e64a-8037-49ca-d67e-a74470edfcf9"
   },
   "outputs": [
    {
     "name": "stdout",
     "output_type": "stream",
     "text": [
      "Model: \"model_1\"\n",
      "_________________________________________________________________\n",
      "Layer (type)                 Output Shape              Param #   \n",
      "=================================================================\n",
      "input_1 (InputLayer)         (None, 224, 224, 3)       0         \n",
      "_________________________________________________________________\n",
      "block1_conv1 (Conv2D)        (None, 224, 224, 64)      1792      \n",
      "_________________________________________________________________\n",
      "block1_conv2 (Conv2D)        (None, 224, 224, 64)      36928     \n",
      "_________________________________________________________________\n",
      "block1_pool (MaxPooling2D)   (None, 112, 112, 64)      0         \n",
      "_________________________________________________________________\n",
      "block2_conv1 (Conv2D)        (None, 112, 112, 128)     73856     \n",
      "_________________________________________________________________\n",
      "block2_conv2 (Conv2D)        (None, 112, 112, 128)     147584    \n",
      "_________________________________________________________________\n",
      "block2_pool (MaxPooling2D)   (None, 56, 56, 128)       0         \n",
      "_________________________________________________________________\n",
      "block3_conv1 (Conv2D)        (None, 56, 56, 256)       295168    \n",
      "_________________________________________________________________\n",
      "block3_conv2 (Conv2D)        (None, 56, 56, 256)       590080    \n",
      "_________________________________________________________________\n",
      "block3_conv3 (Conv2D)        (None, 56, 56, 256)       590080    \n",
      "_________________________________________________________________\n",
      "block3_pool (MaxPooling2D)   (None, 28, 28, 256)       0         \n",
      "_________________________________________________________________\n",
      "block4_conv1 (Conv2D)        (None, 28, 28, 512)       1180160   \n",
      "_________________________________________________________________\n",
      "block4_conv2 (Conv2D)        (None, 28, 28, 512)       2359808   \n",
      "_________________________________________________________________\n",
      "block4_conv3 (Conv2D)        (None, 28, 28, 512)       2359808   \n",
      "_________________________________________________________________\n",
      "block4_pool (MaxPooling2D)   (None, 14, 14, 512)       0         \n",
      "_________________________________________________________________\n",
      "block5_conv1 (Conv2D)        (None, 14, 14, 512)       2359808   \n",
      "_________________________________________________________________\n",
      "block5_conv2 (Conv2D)        (None, 14, 14, 512)       2359808   \n",
      "_________________________________________________________________\n",
      "block5_conv3 (Conv2D)        (None, 14, 14, 512)       2359808   \n",
      "_________________________________________________________________\n",
      "block5_pool (MaxPooling2D)   (None, 7, 7, 512)         0         \n",
      "_________________________________________________________________\n",
      "flatten_1 (Flatten)          (None, 25088)             0         \n",
      "_________________________________________________________________\n",
      "dense_1 (Dense)              (None, 5)                 125445    \n",
      "=================================================================\n",
      "Total params: 14,840,133\n",
      "Trainable params: 125,445\n",
      "Non-trainable params: 14,714,688\n",
      "_________________________________________________________________\n",
      "None\n"
     ]
    }
   ],
   "source": [
    "print(model.summary())"
   ]
  },
  {
   "cell_type": "code",
   "execution_count": 0,
   "metadata": {
    "colab": {},
    "colab_type": "code",
    "id": "UGtzIktrFm05"
   },
   "outputs": [],
   "source": [
    "# build the model\n",
    "model.compile(\n",
    "    loss = 'categorical_crossentropy',\n",
    "    optimizer = 'adam',\n",
    "    metrics = ['accuracy']\n",
    ")"
   ]
  },
  {
   "cell_type": "code",
   "execution_count": 9,
   "metadata": {
    "colab": {
     "base_uri": "https://localhost:8080/",
     "height": 51
    },
    "colab_type": "code",
    "executionInfo": {
     "elapsed": 4021,
     "status": "ok",
     "timestamp": 1588872355809,
     "user": {
      "displayName": "Dwayne Fernandes",
      "photoUrl": "",
      "userId": "16326633927980403023"
     },
     "user_tz": -330
    },
    "id": "2fKEaErDF58n",
    "outputId": "2eea4672-3c84-4f86-d3d5-0e6badabf28e"
   },
   "outputs": [
    {
     "name": "stdout",
     "output_type": "stream",
     "text": [
      "Found 500 images belonging to 5 classes.\n",
      "Found 117 images belonging to 5 classes.\n"
     ]
    }
   ],
   "source": [
    "# Setting up the Datagenrators\n",
    "from keras.preprocessing.image import ImageDataGenerator\n",
    "\n",
    "train_datagen = ImageDataGenerator(\n",
    "    rescale = 1/255,\n",
    "    shear_range = 0.2,\n",
    "    zoom_range = 0.2,\n",
    "    horizontal_flip = True\n",
    ")\n",
    "\n",
    "test_datagen = ImageDataGenerator(rescale=1/255)\n",
    "\n",
    "training_set = train_datagen.flow_from_directory(\n",
    "    train_path,\n",
    "    target_size = (224,224),\n",
    "    batch_size = 32,\n",
    "    class_mode = 'categorical')\n",
    "\n",
    "test_set = test_datagen.flow_from_directory(\n",
    "    val_path,\n",
    "    target_size = (224,224),\n",
    "    batch_size = 32,\n",
    "    class_mode = 'categorical')"
   ]
  },
  {
   "cell_type": "code",
   "execution_count": 10,
   "metadata": {
    "colab": {
     "base_uri": "https://localhost:8080/",
     "height": 187
    },
    "colab_type": "code",
    "executionInfo": {
     "elapsed": 42756,
     "status": "ok",
     "timestamp": 1588872394558,
     "user": {
      "displayName": "Dwayne Fernandes",
      "photoUrl": "",
      "userId": "16326633927980403023"
     },
     "user_tz": -330
    },
    "id": "tnjhPPd-GcoB",
    "outputId": "ef756a9e-209a-42ce-8e18-fe61747135a9"
   },
   "outputs": [
    {
     "name": "stdout",
     "output_type": "stream",
     "text": [
      "Epoch 1/5\n",
      "16/16 [==============================] - 10s 614ms/step - loss: 1.0072 - accuracy: 0.6580 - val_loss: 0.0313 - val_accuracy: 1.0000\n",
      "Epoch 2/5\n",
      "16/16 [==============================] - 7s 435ms/step - loss: 0.0760 - accuracy: 0.9800 - val_loss: 0.0043 - val_accuracy: 1.0000\n",
      "Epoch 3/5\n",
      "16/16 [==============================] - 7s 455ms/step - loss: 0.0198 - accuracy: 1.0000 - val_loss: 0.0027 - val_accuracy: 1.0000\n",
      "Epoch 4/5\n",
      "16/16 [==============================] - 7s 461ms/step - loss: 0.0092 - accuracy: 1.0000 - val_loss: 0.0018 - val_accuracy: 1.0000\n",
      "Epoch 5/5\n",
      "16/16 [==============================] - 7s 458ms/step - loss: 0.0086 - accuracy: 0.9980 - val_loss: 0.0024 - val_accuracy: 1.0000\n"
     ]
    }
   ],
   "source": [
    "# Training the model \n",
    "history = model.fit_generator(\n",
    "    training_set,\n",
    "    validation_data = test_set,\n",
    "    epochs = 5,\n",
    ")"
   ]
  },
  {
   "cell_type": "code",
   "execution_count": 11,
   "metadata": {
    "colab": {
     "base_uri": "https://localhost:8080/",
     "height": 265
    },
    "colab_type": "code",
    "executionInfo": {
     "elapsed": 43425,
     "status": "ok",
     "timestamp": 1588872395240,
     "user": {
      "displayName": "Dwayne Fernandes",
      "photoUrl": "",
      "userId": "16326633927980403023"
     },
     "user_tz": -330
    },
    "id": "ywfAV_qPHmLD",
    "outputId": "813f2b0f-507a-4fe5-e88a-f588f8afac2b"
   },
   "outputs": [
    {
     "data": {
      "image/png": "[encoded data removed]",
      "text/plain": [
       "<Figure size 432x288 with 1 Axes>"
      ]
     },
     "metadata": {
      "needs_background": "light",
      "tags": []
     },
     "output_type": "display_data"
    }
   ],
   "source": [
    "# Viewing the loss and accuracy\n",
    "\n",
    "plt.plot(history.history['loss'], label = 'train loss')\n",
    "plt.plot(history.history['val_loss'], label = 'val loss')\n",
    "plt.legend()\n",
    "plt.show()"
   ]
  },
  {
   "cell_type": "code",
   "execution_count": 12,
   "metadata": {
    "colab": {
     "base_uri": "https://localhost:8080/",
     "height": 265
    },
    "colab_type": "code",
    "executionInfo": {
     "elapsed": 43406,
     "status": "ok",
     "timestamp": 1588872395240,
     "user": {
      "displayName": "Dwayne Fernandes",
      "photoUrl": "",
      "userId": "16326633927980403023"
     },
     "user_tz": -330
    },
    "id": "gEMfDX7EISV8",
    "outputId": "426b8bbb-0cc5-4850-f2fc-5839d3bfc6d5"
   },
   "outputs": [
    {
     "data": {
      "image/png": "[encoded data removed]",
      "text/plain": [
       "<Figure size 432x288 with 1 Axes>"
      ]
     },
     "metadata": {
      "needs_background": "light",
      "tags": []
     },
     "output_type": "display_data"
    }
   ],
   "source": [
    "plt.plot(history.history['accuracy'], label = 'train accuracy')\n",
    "plt.plot(history.history['val_accuracy'], label = 'val accuracy')\n",
    "plt.legend()\n",
    "plt.show()"
   ]
  },
  {
   "cell_type": "code",
   "execution_count": 0,
   "metadata": {
    "colab": {},
    "colab_type": "code",
    "id": "m0gHbSFAIdKm"
   },
   "outputs": [],
   "source": [
    "model.save('vgg_model1.h5')"
   ]
  },
  {
   "cell_type": "code",
   "execution_count": 0,
   "metadata": {
    "colab": {},
    "colab_type": "code",
    "id": "iTfqDFlIJwfj"
   },
   "outputs": [],
   "source": []
  }
 ],
 "metadata": {
  "accelerator": "GPU",
  "colab": {
   "authorship_tag": "ABX9TyMlriLu5pxWc5t9xBSSrUKZ",
   "collapsed_sections": [],
   "mount_file_id": "19ZgH_V49PyNZ-nepba7uO32Bc5k1Tbic",
   "name": "FR_model_training_transfer_learning.ipynb",
   "provenance": []
  },
  "kernelspec": {
   "display_name": "Python 3",
   "language": "python",
   "name": "python3"
  },
  "language_info": {
   "codemirror_mode": {
    "name": "ipython",
    "version": 3
   },
   "file_extension": ".py",
   "mimetype": "text/x-python",
   "name": "python",
   "nbconvert_exporter": "python",
   "pygments_lexer": "ipython3",
   "version": "3.6.9"
  }
 },
 "nbformat": 4,
 "nbformat_minor": 1
}
