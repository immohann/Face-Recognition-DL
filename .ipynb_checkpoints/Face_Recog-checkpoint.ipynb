{
 "cells": [
  {
   "cell_type": "markdown",
   "metadata": {
    "colab_type": "text",
    "id": "m7wQdzrzYol9"
   },
   "source": [
    "# Face-Recognition \n",
    "A face detector using Deep Learning with OpenCV "
   ]
  },
  {
   "cell_type": "markdown",
   "metadata": {
    "colab_type": "text",
    "id": "lpl2n8wFYomA"
   },
   "source": [
    "## NOTE: You can skip this step \n",
    "\n",
    "## 1. Register face\n",
    "Below steps are performed to collect the face samples of a person and save it in the database."
   ]
  },
  {
   "cell_type": "code",
   "execution_count": 1,
   "metadata": {
    "colab": {
     "base_uri": "https://localhost:8080/",
     "height": 122
    },
    "colab_type": "code",
    "id": "ppONH78XZKT2",
    "outputId": "71ce767e-bcd9-4335-890b-9b0dfa94e5f7"
   },
   "outputs": [
    {
     "name": "stdout",
     "output_type": "stream",
     "text": [
      "Go to this URL in a browser: https://accounts.google.com/o/oauth2/auth?client_id=947318989803-6bn6qk8qdgf4n4g3pfee6491hc0brc4i.apps.googleusercontent.com&redirect_uri=urn%3aietf%3awg%3aoauth%3a2.0%3aoob&response_type=code&scope=email%20https%3a%2f%2fwww.googleapis.com%2fauth%2fdocs.test%20https%3a%2f%2fwww.googleapis.com%2fauth%2fdrive%20https%3a%2f%2fwww.googleapis.com%2fauth%2fdrive.photos.readonly%20https%3a%2f%2fwww.googleapis.com%2fauth%2fpeopleapi.readonly\n",
      "\n",
      "Enter your authorization code:\n",
      "··········\n",
      "Mounted at /content/drive\n"
     ]
    }
   ],
   "source": [
    "from google.colab import drive\n",
    "drive.mount('/content/drive')"
   ]
  },
  {
   "cell_type": "code",
   "execution_count": 10,
   "metadata": {
    "colab": {},
    "colab_type": "code",
    "id": "GOu69ZS4YomC"
   },
   "outputs": [
    {
     "name": "stdout",
     "output_type": "stream",
     "text": [
      "Enter Name to Register Face: shivani\n",
      "Collecting Samples Complete\n"
     ]
    }
   ],
   "source": [
    "#import required libraries\n",
    "import cv2\n",
    "import sys , os\n",
    "import numpy as np\n",
    "##############################################\n",
    "#setting up the dataset files\n",
    "# It captures images and stores them in datasets  \n",
    "# folder under the folder name of sub_dir \n",
    "haar_file = 'haarcascade_frontalface_default.xml'\n",
    "# All the faces data will be \n",
    "#  present this folder \n",
    "train = 'datasets/train'  \n",
    "validation='datasets/validation'\n",
    "###############################################\n",
    "# These are sub data sets of folder,  \n",
    "# for my faces I've used my name you can  \n",
    "# change the label here \n",
    "sub_dir = input('Enter Name to Register Face: ')\n",
    "###############################################\n",
    "# setting path for storing the images in train and test set\n",
    "dataset='dataset'\n",
    "train = 'dataset/train'  \n",
    "validation='dataset/validation'\n",
    "\n",
    "if not os.path.isdir(dataset): \n",
    "    os.mkdir(dataset) \n",
    "\n",
    "if not os.path.isdir(train): \n",
    "    os.mkdir(train) \n",
    "\n",
    "if not os.path.isdir(validation): \n",
    "    os.mkdir(validation) \n",
    "\n",
    "path1 = os.path.join(train, sub_dir) \n",
    "path2=os.path.join(validation, sub_dir) \n",
    "if not os.path.isdir(path1): \n",
    "    os.mkdir(path1) \n",
    "if not os.path.isdir(path2): \n",
    "    os.mkdir(path2) \n",
    "#################################################\n",
    "# defining the size of images  \n",
    "(width, height) = (400, 400)  \n",
    "#################################################\n",
    "#'0' is used for my webcam,  \n",
    "# if you've any other camera \n",
    "#  attached use '1' like this \n",
    "face_cascade = cv2.CascadeClassifier(haar_file) \n",
    "webcam = cv2.VideoCapture(0) \n",
    "#################################################\n",
    "# this function is created in order to avoid overwriting of images\n",
    "# by keeping the count of the files already in the mentioned directory\n",
    "def get_max(l):\n",
    "    number = []\n",
    "    for word in l:\n",
    "        temp = ''\n",
    "        for letter in word:\n",
    "            if letter != '.':\n",
    "                temp += letter\n",
    "            else:\n",
    "                break\n",
    "        number.append(int(temp))\n",
    "\n",
    "    return max(number)\n",
    "#####################################################\n",
    "# The program loops until it has 50 images of the face. \n",
    "path='dataset/train/'+sub_dir\n",
    "if os.listdir(path):\n",
    "    count = get_max(os.listdir(path))\n",
    "else:\n",
    "    count = 0\n",
    "\n",
    "num_img = count + 160\n",
    "\n",
    "split=0.8\n",
    "mid=num_img//2\n",
    "split_train=split*num_img\n",
    "split_test=(1-split)*num_img\n",
    "\n",
    "count = 1\n",
    "while count < num_img:  \n",
    "    (_, im) = webcam.read() \n",
    "    gray = cv2.cvtColor(im, cv2.COLOR_BGR2GRAY) \n",
    "    faces = face_cascade.detectMultiScale(gray, 1.3, 4) \n",
    "    for (x, y, w, h) in faces: \n",
    "        cv2.rectangle(im, (x-20, y-20), (x + w+20, y + h+20), (0, 0, 0), 2) \n",
    "        face = gray[y:y + h, x:x + w] \n",
    "        face_resize = cv2.resize(face, (width, height)) \n",
    "    \n",
    "        if count>mid and count <mid+split_test:\n",
    "            cv2.imwrite('% s/% s.jpg' % (path2, count), face_resize)\n",
    "        else:\n",
    "            cv2.imwrite('% s/% s.jpg' % (path1, count), face_resize) \n",
    "    \n",
    "        \n",
    "        \n",
    "      #  cv2.imwrite('% s/% s.jpg' % (path, count), face_resize) \n",
    "    count += 1\n",
    "      \n",
    "    cv2.imshow('OpenCV', im) \n",
    "    key = cv2.waitKey(10) \n",
    "    if key == 27: \n",
    "        break\n",
    "webcam.release()\n",
    "cv2.destroyAllWindows()      \n",
    "print(\"Collecting Samples Complete\")\n",
    "#######################################################"
   ]
  },
  {
   "cell_type": "markdown",
   "metadata": {
    "colab_type": "text",
    "id": "NlNewhXbYomL"
   },
   "source": [
    "______________________________________"
   ]
  },
  {
   "cell_type": "markdown",
   "metadata": {
    "colab_type": "text",
    "id": "Uiv2pCxeYomN"
   },
   "source": [
    "## 2. Train on pretrained models "
   ]
  },
  {
   "cell_type": "markdown",
   "metadata": {},
   "source": [
    "### 2.1 Setup\n",
    "Importing the required libraries"
   ]
  },
  {
   "cell_type": "markdown",
   "metadata": {
    "colab_type": "text",
    "id": "DwnlZn6EYomO"
   },
   "source": [
    "dataset at:  /content/drive/My Drive/Face-Recognition/dataset"
   ]
  },
  {
   "cell_type": "code",
   "execution_count": 2,
   "metadata": {
    "colab": {
     "base_uri": "https://localhost:8080/",
     "height": 34
    },
    "colab_type": "code",
    "id": "XhBQXY2UYomU",
    "outputId": "072d77aa-51b5-42db-926d-f4ab3dfd728f"
   },
   "outputs": [
    {
     "name": "stderr",
     "output_type": "stream",
     "text": [
      "Using TensorFlow backend.\n"
     ]
    }
   ],
   "source": [
    "from keras.layers import Lambda, Input, Flatten, Dense\n",
    "from keras.models import Model\n",
    "from keras.applications.vgg16 import VGG16, preprocess_input\n",
    "from keras.preprocessing import image\n",
    "from keras.optimizers import RMSprop\n",
    "from keras.preprocessing.image import ImageDataGenerator\n",
    "from keras.models import Sequential\n",
    "import numpy as np\n",
    "from glob import glob\n",
    "import matplotlib.pyplot as plt"
   ]
  },
  {
   "cell_type": "code",
   "execution_count": 3,
   "metadata": {
    "colab": {},
    "colab_type": "code",
    "id": "vHVxrke4Yoma"
   },
   "outputs": [],
   "source": [
    "# resize all images\n",
    "image_size = [224,224]\n",
    "\n",
    "# path to train and test folders\n",
    "\n",
    "# FOR COLAB\n",
    "\n",
    "# train_path = '/content/drive/My Drive/Face-Recognition/dataset/train'\n",
    "# val_path = '/content/drive/My Drive/Face-Recognition/dataset/validation'\n",
    "\n",
    "#FOR LOCAL\n",
    "\n",
    "train_path = 'dataset/train'\n",
    "val_path = 'dataset/validation'\n"
   ]
  },
  {
   "cell_type": "markdown",
   "metadata": {},
   "source": [
    "### 2.2 Fetching the pretrained model VGG16"
   ]
  },
  {
   "cell_type": "code",
   "execution_count": 13,
   "metadata": {
    "colab": {},
    "colab_type": "code",
    "id": "jBbQ9FmIYomg"
   },
   "outputs": [],
   "source": [
    "# add preprocessing layer to the from of VGG\n",
    "vgg = VGG16(\n",
    "    input_shape = image_size + [3],\n",
    "    weights = 'imagenet',\n",
    "    include_top = False)\n",
    "\n",
    "# freezing the above layers\n",
    "for layer in vgg.layers:\n",
    "  layer.trainable = False"
   ]
  },
  {
   "cell_type": "markdown",
   "metadata": {},
   "source": [
    "Checking the number of classes present in the model to set softmax value"
   ]
  },
  {
   "cell_type": "code",
   "execution_count": 4,
   "metadata": {
    "colab": {
     "base_uri": "https://localhost:8080/",
     "height": 34
    },
    "colab_type": "code",
    "id": "XjKnPlTMYoms",
    "outputId": "21551c9f-2675-47bc-9434-7b2e38d0a607"
   },
   "outputs": [
    {
     "name": "stdout",
     "output_type": "stream",
     "text": [
      "Classes: 2\n"
     ]
    }
   ],
   "source": [
    "# useful for getting number of classes\n",
    "dirs = glob('dataset/train/*')\n",
    "print('Classes: ' + str(len(dirs)))"
   ]
  },
  {
   "cell_type": "markdown",
   "metadata": {},
   "source": [
    "### 2.3 Building the model"
   ]
  },
  {
   "cell_type": "markdown",
   "metadata": {},
   "source": [
    "Adding a dense and activation layer to the pretrained model"
   ]
  },
  {
   "cell_type": "code",
   "execution_count": 15,
   "metadata": {
    "colab": {},
    "colab_type": "code",
    "id": "LcIaE2TLYomz"
   },
   "outputs": [],
   "source": [
    "# Adding layers\n",
    "x = Flatten()(vgg.output)\n",
    "prediction = Dense(len(dirs), activation = 'softmax')(x)"
   ]
  },
  {
   "cell_type": "code",
   "execution_count": 16,
   "metadata": {
    "colab": {
     "base_uri": "https://localhost:8080/",
     "height": 71
    },
    "colab_type": "code",
    "id": "aaTShMoqYom8",
    "outputId": "1a1a9ae9-2b60-4152-dfd0-3375aa97da9e"
   },
   "outputs": [
    {
     "name": "stderr",
     "output_type": "stream",
     "text": [
      "/home/theorangeguy/.local/lib/python3.6/site-packages/ipykernel_launcher.py:1: UserWarning: Update your `Model` call to the Keras 2 API: `Model(inputs=Tensor(\"in..., outputs=Tensor(\"de...)`\n",
      "  \"\"\"Entry point for launching an IPython kernel.\n"
     ]
    }
   ],
   "source": [
    "model = Model(inputs = vgg.input, output = prediction)"
   ]
  },
  {
   "cell_type": "markdown",
   "metadata": {},
   "source": [
    "Model Summary"
   ]
  },
  {
   "cell_type": "code",
   "execution_count": 17,
   "metadata": {
    "colab": {
     "base_uri": "https://localhost:8080/",
     "height": 867
    },
    "colab_type": "code",
    "id": "DnQ4mHC0dayn",
    "outputId": "8ebfcaa9-87f1-479f-ca43-53fa625efe97"
   },
   "outputs": [
    {
     "name": "stdout",
     "output_type": "stream",
     "text": [
      "Model: \"model_1\"\n",
      "_________________________________________________________________\n",
      "Layer (type)                 Output Shape              Param #   \n",
      "=================================================================\n",
      "input_1 (InputLayer)         (None, 224, 224, 3)       0         \n",
      "_________________________________________________________________\n",
      "block1_conv1 (Conv2D)        (None, 224, 224, 64)      1792      \n",
      "_________________________________________________________________\n",
      "block1_conv2 (Conv2D)        (None, 224, 224, 64)      36928     \n",
      "_________________________________________________________________\n",
      "block1_pool (MaxPooling2D)   (None, 112, 112, 64)      0         \n",
      "_________________________________________________________________\n",
      "block2_conv1 (Conv2D)        (None, 112, 112, 128)     73856     \n",
      "_________________________________________________________________\n",
      "block2_conv2 (Conv2D)        (None, 112, 112, 128)     147584    \n",
      "_________________________________________________________________\n",
      "block2_pool (MaxPooling2D)   (None, 56, 56, 128)       0         \n",
      "_________________________________________________________________\n",
      "block3_conv1 (Conv2D)        (None, 56, 56, 256)       295168    \n",
      "_________________________________________________________________\n",
      "block3_conv2 (Conv2D)        (None, 56, 56, 256)       590080    \n",
      "_________________________________________________________________\n",
      "block3_conv3 (Conv2D)        (None, 56, 56, 256)       590080    \n",
      "_________________________________________________________________\n",
      "block3_pool (MaxPooling2D)   (None, 28, 28, 256)       0         \n",
      "_________________________________________________________________\n",
      "block4_conv1 (Conv2D)        (None, 28, 28, 512)       1180160   \n",
      "_________________________________________________________________\n",
      "block4_conv2 (Conv2D)        (None, 28, 28, 512)       2359808   \n",
      "_________________________________________________________________\n",
      "block4_conv3 (Conv2D)        (None, 28, 28, 512)       2359808   \n",
      "_________________________________________________________________\n",
      "block4_pool (MaxPooling2D)   (None, 14, 14, 512)       0         \n",
      "_________________________________________________________________\n",
      "block5_conv1 (Conv2D)        (None, 14, 14, 512)       2359808   \n",
      "_________________________________________________________________\n",
      "block5_conv2 (Conv2D)        (None, 14, 14, 512)       2359808   \n",
      "_________________________________________________________________\n",
      "block5_conv3 (Conv2D)        (None, 14, 14, 512)       2359808   \n",
      "_________________________________________________________________\n",
      "block5_pool (MaxPooling2D)   (None, 7, 7, 512)         0         \n",
      "_________________________________________________________________\n",
      "flatten_1 (Flatten)          (None, 25088)             0         \n",
      "_________________________________________________________________\n",
      "dense_1 (Dense)              (None, 2)                 50178     \n",
      "=================================================================\n",
      "Total params: 14,764,866\n",
      "Trainable params: 50,178\n",
      "Non-trainable params: 14,714,688\n",
      "_________________________________________________________________\n"
     ]
    }
   ],
   "source": [
    "model.summary()"
   ]
  },
  {
   "cell_type": "markdown",
   "metadata": {},
   "source": [
    "Building step"
   ]
  },
  {
   "cell_type": "code",
   "execution_count": 18,
   "metadata": {
    "colab": {},
    "colab_type": "code",
    "id": "nqqmX9SPdfYv"
   },
   "outputs": [],
   "source": [
    "# build the model\n",
    "model.compile(\n",
    "    loss = 'categorical_crossentropy',\n",
    "    optimizer ='adam',\n",
    "    metrics = ['accuracy']\n",
    ")"
   ]
  },
  {
   "cell_type": "markdown",
   "metadata": {},
   "source": [
    "### 2.4 Preprocessing "
   ]
  },
  {
   "cell_type": "code",
   "execution_count": 19,
   "metadata": {
    "colab": {
     "base_uri": "https://localhost:8080/",
     "height": 51
    },
    "colab_type": "code",
    "id": "IcdvK1G8dibC",
    "outputId": "ef8f35ab-7d3b-48c0-8957-12f3a99fa427"
   },
   "outputs": [
    {
     "name": "stdout",
     "output_type": "stream",
     "text": [
      "Found 347 images belonging to 2 classes.\n",
      "Found 56 images belonging to 2 classes.\n"
     ]
    }
   ],
   "source": [
    "# Setting up the Datagenrators\n",
    "\n",
    "train_datagen = ImageDataGenerator(\n",
    "    rescale=1./255.,\n",
    "      rotation_range=20,\n",
    "      width_shift_range=0.2,\n",
    "      height_shift_range=0.2,\n",
    "      shear_range=0.2,\n",
    "      zoom_range=0.2,\n",
    "      horizontal_flip=True,\n",
    "      fill_mode='nearest'\n",
    ")\n",
    "\n",
    "test_datagen = ImageDataGenerator(rescale=1/255)\n",
    "\n",
    "training_set = train_datagen.flow_from_directory(\n",
    "    train_path,\n",
    "    target_size = (224,224),\n",
    "    batch_size = 32,\n",
    "    class_mode = 'categorical')\n",
    "\n",
    "test_set = test_datagen.flow_from_directory(\n",
    "    val_path,\n",
    "    target_size = (224,224),\n",
    "    batch_size = 32,\n",
    "    class_mode = 'categorical')"
   ]
  },
  {
   "cell_type": "markdown",
   "metadata": {},
   "source": [
    "### 2.5  Training the model"
   ]
  },
  {
   "cell_type": "code",
   "execution_count": 20,
   "metadata": {
    "colab": {
     "base_uri": "https://localhost:8080/",
     "height": 207
    },
    "colab_type": "code",
    "id": "yQQdW77Jds93",
    "outputId": "3dc1cd98-7ad9-4800-88f8-a48eeaa889fe",
    "scrolled": true
   },
   "outputs": [
    {
     "name": "stdout",
     "output_type": "stream",
     "text": [
      "Epoch 1/4\n",
      "11/11 [==============================] - 191s 17s/step - loss: 0.4516 - accuracy: 0.7435 - val_loss: 0.1236 - val_accuracy: 0.9821\n",
      "Epoch 2/4\n",
      "11/11 [==============================] - 135s 12s/step - loss: 0.1221 - accuracy: 0.9625 - val_loss: 0.0878 - val_accuracy: 1.0000\n",
      "Epoch 3/4\n",
      "11/11 [==============================] - 129s 12s/step - loss: 0.0585 - accuracy: 0.9827 - val_loss: 0.0299 - val_accuracy: 1.0000\n",
      "Epoch 4/4\n",
      "11/11 [==============================] - 128s 12s/step - loss: 0.0494 - accuracy: 0.9914 - val_loss: 0.0313 - val_accuracy: 1.0000\n"
     ]
    }
   ],
   "source": [
    "# Training the model \n",
    "history = model.fit_generator(\n",
    "    training_set,\n",
    "    validation_data = test_set,\n",
    "    epochs = 4,\n",
    ")"
   ]
  },
  {
   "cell_type": "markdown",
   "metadata": {},
   "source": [
    "### 2.7 Saving the trained model"
   ]
  },
  {
   "cell_type": "code",
   "execution_count": 21,
   "metadata": {
    "colab": {},
    "colab_type": "code",
    "id": "VodNlTDfeCdB"
   },
   "outputs": [],
   "source": [
    "model.save('vgg_model1.h5')"
   ]
  },
  {
   "cell_type": "markdown",
   "metadata": {},
   "source": [
    "### 2.6 Result Visualization "
   ]
  },
  {
   "cell_type": "code",
   "execution_count": 22,
   "metadata": {
    "colab": {
     "base_uri": "https://localhost:8080/",
     "height": 265
    },
    "colab_type": "code",
    "id": "yqXm78BQdvuz",
    "outputId": "2fba41ac-7e92-4df3-97b1-1ed0118ba077"
   },
   "outputs": [
    {
     "data": {
      "image/png": "[encoded data removed]",
      "text/plain": [
       "<Figure size 432x288 with 1 Axes>"
      ]
     },
     "metadata": {
      "needs_background": "light"
     },
     "output_type": "display_data"
    }
   ],
   "source": [
    "# Viewing the loss and accuracy\n",
    "\n",
    "plt.plot(history.history['loss'], label = 'train loss')\n",
    "plt.plot(history.history['val_loss'], label = 'val loss')\n",
    "plt.legend()\n",
    "plt.show()"
   ]
  },
  {
   "cell_type": "code",
   "execution_count": 23,
   "metadata": {
    "colab": {
     "base_uri": "https://localhost:8080/",
     "height": 265
    },
    "colab_type": "code",
    "id": "mvHFbLy-d_sq",
    "outputId": "92974da3-1e46-4eec-fb7f-d4238ca19aad"
   },
   "outputs": [
    {
     "data": {
      "image/png": "[encoded data removed]",
      "text/plain": [
       "<Figure size 432x288 with 1 Axes>"
      ]
     },
     "metadata": {
      "needs_background": "light"
     },
     "output_type": "display_data"
    }
   ],
   "source": [
    "plt.plot(history.history['accuracy'], label = 'train accuracy')\n",
    "plt.plot(history.history['val_accuracy'], label = 'val accuracy')\n",
    "plt.legend()\n",
    "plt.show()"
   ]
  },
  {
   "cell_type": "markdown",
   "metadata": {},
   "source": [
    "### Creating a scratch model"
   ]
  },
  {
   "cell_type": "code",
   "execution_count": 4,
   "metadata": {},
   "outputs": [],
   "source": [
    "import tensorflow as tf\n",
    "from tensorflow.keras.optimizers import RMSprop\n",
    "from tensorflow.keras.preprocessing.image import ImageDataGenerator\n",
    "import matplotlib.pyplot as plt\n",
    "from glob import glob\n"
   ]
  },
  {
   "cell_type": "code",
   "execution_count": 5,
   "metadata": {},
   "outputs": [
    {
     "name": "stdout",
     "output_type": "stream",
     "text": [
      "Classes: 2\n"
     ]
    },
    {
     "data": {
      "text/plain": [
       "2"
      ]
     },
     "execution_count": 5,
     "metadata": {},
     "output_type": "execute_result"
    }
   ],
   "source": [
    "dirs = glob('dataset/train/*')\n",
    "print('Classes: ' + str(len(dirs)))\n",
    "x=len(dirs)\n",
    "x"
   ]
  },
  {
   "cell_type": "code",
   "execution_count": 6,
   "metadata": {},
   "outputs": [],
   "source": [
    "\n",
    "train_path = 'dataset/train'\n",
    "val_path = 'dataset/validation'\n"
   ]
  },
  {
   "cell_type": "code",
   "execution_count": 7,
   "metadata": {},
   "outputs": [
    {
     "name": "stdout",
     "output_type": "stream",
     "text": [
      "Model: \"sequential\"\n",
      "_________________________________________________________________\n",
      "Layer (type)                 Output Shape              Param #   \n",
      "=================================================================\n",
      "conv2d (Conv2D)              (None, 222, 222, 32)      896       \n",
      "_________________________________________________________________\n",
      "max_pooling2d (MaxPooling2D) (None, 111, 111, 32)      0         \n",
      "_________________________________________________________________\n",
      "conv2d_1 (Conv2D)            (None, 109, 109, 32)      9248      \n",
      "_________________________________________________________________\n",
      "max_pooling2d_1 (MaxPooling2 (None, 54, 54, 32)        0         \n",
      "_________________________________________________________________\n",
      "conv2d_2 (Conv2D)            (None, 52, 52, 32)        9248      \n",
      "_________________________________________________________________\n",
      "max_pooling2d_2 (MaxPooling2 (None, 26, 26, 32)        0         \n",
      "_________________________________________________________________\n",
      "conv2d_3 (Conv2D)            (None, 24, 24, 64)        18496     \n",
      "_________________________________________________________________\n",
      "max_pooling2d_3 (MaxPooling2 (None, 12, 12, 64)        0         \n",
      "_________________________________________________________________\n",
      "conv2d_4 (Conv2D)            (None, 10, 10, 64)        36928     \n",
      "_________________________________________________________________\n",
      "max_pooling2d_4 (MaxPooling2 (None, 5, 5, 64)          0         \n",
      "_________________________________________________________________\n",
      "conv2d_5 (Conv2D)            (None, 3, 3, 128)         73856     \n",
      "_________________________________________________________________\n",
      "max_pooling2d_5 (MaxPooling2 (None, 1, 1, 128)         0         \n",
      "_________________________________________________________________\n",
      "flatten (Flatten)            (None, 128)               0         \n",
      "_________________________________________________________________\n",
      "dense (Dense)                (None, 1024)              132096    \n",
      "_________________________________________________________________\n",
      "dense_1 (Dense)              (None, 512)               524800    \n",
      "_________________________________________________________________\n",
      "dense_2 (Dense)              (None, 2)                 1026      \n",
      "=================================================================\n",
      "Total params: 806,594\n",
      "Trainable params: 806,594\n",
      "Non-trainable params: 0\n",
      "_________________________________________________________________\n"
     ]
    }
   ],
   "source": [
    "model = tf.keras.models.Sequential([\n",
    "    tf.keras.layers.Conv2D(32, (3,3), activation='relu', input_shape=(224, 224, 3)),\n",
    "    tf.keras.layers.MaxPooling2D(2, 2),\n",
    "    tf.keras.layers.Conv2D(32, (3,3), activation='relu'),\n",
    "    tf.keras.layers.MaxPooling2D(2,2),\n",
    "    tf.keras.layers.Conv2D(32, (3,3), activation='relu'),\n",
    "    tf.keras.layers.MaxPooling2D(2,2),\n",
    "    tf.keras.layers.Conv2D(64, (3,3), activation='relu'),\n",
    "    tf.keras.layers.MaxPooling2D(2,2),\n",
    "    tf.keras.layers.Conv2D(64, (3,3), activation='relu'),\n",
    "    tf.keras.layers.MaxPooling2D(2,2),\n",
    "    tf.keras.layers.Conv2D(128, (3,3), activation='relu'),\n",
    "    tf.keras.layers.MaxPooling2D(2,2),\n",
    "\n",
    "    #after 6 layers we use flatten to create single vector along with activation function\n",
    "\n",
    "    tf.keras.layers.Flatten(),\n",
    "    tf.keras.layers.Dense(1024, activation='relu'),\n",
    "    tf.keras.layers.Dense(512, activation='relu'),\n",
    "\n",
    "  #since it's a multi-class hence we'll use softmax activation function.\n",
    "\n",
    "    tf.keras.layers.Dense(x, activation='softmax')\n",
    "])\n",
    "\n",
    "model.summary()"
   ]
  },
  {
   "cell_type": "code",
   "execution_count": 8,
   "metadata": {},
   "outputs": [],
   "source": [
    "model.compile(optimizer = 'adam',\n",
    "              loss = 'categorical_crossentropy',metrics=['accuracy'])\n"
   ]
  },
  {
   "cell_type": "code",
   "execution_count": 9,
   "metadata": {},
   "outputs": [
    {
     "name": "stdout",
     "output_type": "stream",
     "text": [
      "Found 213 images belonging to 2 classes.\n",
      "Found 51 images belonging to 2 classes.\n"
     ]
    }
   ],
   "source": [
    "train_datagen = ImageDataGenerator(\n",
    "    rescale=1./255.,\n",
    "      shear_range=0.2,\n",
    "      zoom_range=0.2,\n",
    "      horizontal_flip=True,\n",
    ")\n",
    "\n",
    "test_datagen = ImageDataGenerator(rescale=1/255)\n",
    "\n",
    "train_generator = train_datagen.flow_from_directory(\n",
    "    train_path,\n",
    "    target_size = (224,224),\n",
    "    batch_size = 32,\n",
    "    class_mode = 'categorical')\n",
    "\n",
    "validation_generator = test_datagen.flow_from_directory(\n",
    "    val_path,\n",
    "    target_size = (224,224),\n",
    "    batch_size = 32,\n",
    "    class_mode = 'categorical')"
   ]
  },
  {
   "cell_type": "code",
   "execution_count": 10,
   "metadata": {
    "scrolled": true
   },
   "outputs": [
    {
     "name": "stdout",
     "output_type": "stream",
     "text": [
      "Epoch 1/10\n",
      "WARNING:tensorflow:AutoGraph could not transform <function Model.make_train_function.<locals>.train_function at 0x7f41ec5d1488> and will run it as-is.\n",
      "Please report this to the TensorFlow team. When filing the bug, set the verbosity to 10 (on Linux, `export AUTOGRAPH_VERBOSITY=10`) and attach the full output.\n",
      "Cause: Bad argument number for Name: 4, expecting 3\n",
      "To silence this warning, decorate the function with @tf.autograph.experimental.do_not_convert\n",
      "WARNING: AutoGraph could not transform <function Model.make_train_function.<locals>.train_function at 0x7f41ec5d1488> and will run it as-is.\n",
      "Please report this to the TensorFlow team. When filing the bug, set the verbosity to 10 (on Linux, `export AUTOGRAPH_VERBOSITY=10`) and attach the full output.\n",
      "Cause: Bad argument number for Name: 4, expecting 3\n",
      "To silence this warning, decorate the function with @tf.autograph.experimental.do_not_convert\n",
      "10/10 [==============================] - ETA: 0s - loss: 0.6962 - accuracy: 0.4595WARNING:tensorflow:AutoGraph could not transform <function Model.make_test_function.<locals>.test_function at 0x7f41ec4b3598> and will run it as-is.\n",
      "Please report this to the TensorFlow team. When filing the bug, set the verbosity to 10 (on Linux, `export AUTOGRAPH_VERBOSITY=10`) and attach the full output.\n",
      "Cause: Bad argument number for Name: 4, expecting 3\n",
      "To silence this warning, decorate the function with @tf.autograph.experimental.do_not_convert\n",
      "WARNING: AutoGraph could not transform <function Model.make_test_function.<locals>.test_function at 0x7f41ec4b3598> and will run it as-is.\n",
      "Please report this to the TensorFlow team. When filing the bug, set the verbosity to 10 (on Linux, `export AUTOGRAPH_VERBOSITY=10`) and attach the full output.\n",
      "Cause: Bad argument number for Name: 4, expecting 3\n",
      "To silence this warning, decorate the function with @tf.autograph.experimental.do_not_convert\n",
      "10/10 [==============================] - 18s 2s/step - loss: 0.6962 - accuracy: 0.4595 - val_loss: 0.6920 - val_accuracy: 0.5294\n",
      "Epoch 2/10\n",
      "10/10 [==============================] - 17s 2s/step - loss: 0.6891 - accuracy: 0.5469 - val_loss: 0.6849 - val_accuracy: 0.5490\n",
      "Epoch 3/10\n",
      "10/10 [==============================] - 17s 2s/step - loss: 0.6173 - accuracy: 0.6946 - val_loss: 0.6217 - val_accuracy: 0.7255\n",
      "Epoch 4/10\n",
      "10/10 [==============================] - 17s 2s/step - loss: 0.4119 - accuracy: 0.7929 - val_loss: 0.8820 - val_accuracy: 0.5294\n",
      "Epoch 5/10\n",
      "10/10 [==============================] - 17s 2s/step - loss: 0.3355 - accuracy: 0.8423 - val_loss: 0.4764 - val_accuracy: 0.7843\n",
      "Epoch 6/10\n",
      "10/10 [==============================] - 17s 2s/step - loss: 0.1256 - accuracy: 0.9547 - val_loss: 0.7716 - val_accuracy: 0.7412\n",
      "Epoch 7/10\n",
      "10/10 [==============================] - 17s 2s/step - loss: 0.1487 - accuracy: 0.9396 - val_loss: 0.4149 - val_accuracy: 0.8235\n",
      "Epoch 8/10\n",
      "10/10 [==============================] - 17s 2s/step - loss: 0.0640 - accuracy: 0.9741 - val_loss: 0.1367 - val_accuracy: 0.9490\n",
      "Epoch 9/10\n",
      "10/10 [==============================] - 17s 2s/step - loss: 0.0200 - accuracy: 0.9968 - val_loss: 0.1307 - val_accuracy: 0.9216\n",
      "Epoch 10/10\n",
      "10/10 [==============================] - 17s 2s/step - loss: 0.0324 - accuracy: 0.9899 - val_loss: 0.0133 - val_accuracy: 1.0000\n"
     ]
    }
   ],
   "source": [
    "history = model.fit(\n",
    "      train_generator,\n",
    "    steps_per_epoch=10,\n",
    "      epochs=10,\n",
    "    validation_steps=10,\n",
    "      validation_data=validation_generator)"
   ]
  },
  {
   "cell_type": "code",
   "execution_count": 11,
   "metadata": {},
   "outputs": [],
   "source": [
    "model.save('mymodel2.h5')"
   ]
  },
  {
   "cell_type": "code",
   "execution_count": 12,
   "metadata": {},
   "outputs": [
    {
     "data": {
      "image/png": "[encoded data removed]",
      "text/plain": [
       "<Figure size 432x288 with 1 Axes>"
      ]
     },
     "metadata": {
      "needs_background": "light"
     },
     "output_type": "display_data"
    }
   ],
   "source": [
    "plt.plot(history.history['loss'], label = 'train loss')\n",
    "plt.plot(history.history['val_loss'], label = 'val loss')\n",
    "plt.legend()\n",
    "plt.show()"
   ]
  },
  {
   "cell_type": "code",
   "execution_count": 13,
   "metadata": {},
   "outputs": [
    {
     "data": {
      "image/png": "[encoded data removed]",
      "text/plain": [
       "<Figure size 432x288 with 1 Axes>"
      ]
     },
     "metadata": {
      "needs_background": "light"
     },
     "output_type": "display_data"
    }
   ],
   "source": [
    "plt.plot(history.history['accuracy'], label = 'train accuracy')\n",
    "plt.plot(history.history['val_accuracy'], label = 'val accuracy')\n",
    "plt.legend()\n",
    "plt.show()"
   ]
  },
  {
   "cell_type": "markdown",
   "metadata": {},
   "source": [
    "## Load Saved Model"
   ]
  },
  {
   "cell_type": "code",
   "execution_count": 1,
   "metadata": {},
   "outputs": [],
   "source": [
    "from tensorflow.keras.models import load_model"
   ]
  },
  {
   "cell_type": "markdown",
   "metadata": {},
   "source": [
    "VGG-16\n"
   ]
  },
  {
   "cell_type": "code",
   "execution_count": 2,
   "metadata": {},
   "outputs": [],
   "source": [
    "#model = load_model('vgg_model1.h5')"
   ]
  },
  {
   "cell_type": "markdown",
   "metadata": {},
   "source": [
    "Scratch Model"
   ]
  },
  {
   "cell_type": "code",
   "execution_count": 3,
   "metadata": {},
   "outputs": [],
   "source": [
    "model = load_model('mymodel2.h5')"
   ]
  },
  {
   "cell_type": "markdown",
   "metadata": {
    "colab": {},
    "colab_type": "code",
    "id": "Yezqcz1PfS0w"
   },
   "source": [
    "## 3. Testing the model"
   ]
  },
  {
   "cell_type": "markdown",
   "metadata": {},
   "source": [
    "### 3.1 Setup"
   ]
  },
  {
   "cell_type": "code",
   "execution_count": 4,
   "metadata": {},
   "outputs": [
    {
     "name": "stderr",
     "output_type": "stream",
     "text": [
      "Using TensorFlow backend.\n"
     ]
    }
   ],
   "source": [
    "from PIL import Image\n",
    "from keras.applications.vgg16 import preprocess_input\n",
    "import base64\n",
    "from io import BytesIO\n",
    "import json \n",
    "import random \n",
    "import cv2\n",
    "from keras.models import load_model\n",
    "import numpy as np\n",
    "from keras.preprocessing import image\n",
    "import os"
   ]
  },
  {
   "cell_type": "code",
   "execution_count": 5,
   "metadata": {},
   "outputs": [
    {
     "data": {
      "text/plain": [
       "{0: 'Mohan', 1: 'Shivani'}"
      ]
     },
     "execution_count": 5,
     "metadata": {},
     "output_type": "execute_result"
    }
   ],
   "source": [
    "# For naming the classes\n",
    "l_ = []\n",
    "for f in os.listdir('dataset/train/'):\n",
    "    l_.append(f.upper())\n",
    "\n",
    "l_ = sorted(l_)\n",
    "people = {}\n",
    "for i,person in enumerate(l_):\n",
    "    people[i] = person.title()\n",
    "people"
   ]
  },
  {
   "cell_type": "code",
   "execution_count": 29,
   "metadata": {
    "scrolled": false
   },
   "outputs": [],
   "source": [
    "# Loading the cascade\n",
    "face_cascade = cv2.CascadeClassifier('haarcascade_frontalface_default.xml')\n",
    "\n",
    "\n",
    "# def face_extractor(img):\n",
    "#     # Function detects faces and returns the cropped face\n",
    "#     # If no face detected, it returns the input image\n",
    "    \n",
    "#     faces = face_cascade.detectMultiScale(img, 1.3, 5)\n",
    "    \n",
    "#     if faces is ():\n",
    "#         return None\n",
    "    \n",
    "#     # Crop all faces found\n",
    "#     for (x,y,w,h) in faces:\n",
    "#         cv2.rectangle(img,(x,y),(x+w,y+h),(0,0,0),2)\n",
    "#         cropped_face = img[y:y+h, x:x+w]\n",
    "\n",
    "#     return cropped_face\n",
    "\n",
    "\n",
    "# Doing some Face Recognition with the webcam\n",
    "video_capture = cv2.VideoCapture(0)\n",
    "while True:\n",
    "    _, frame = video_capture.read()\n",
    "    cropped_face=None\n",
    "#     face=face_extractor(frame)\n",
    "    faces = face_cascade.detectMultiScale(frame, 1.3, 5)  \n",
    "    if faces is ():\n",
    "        face= None  \n",
    "    # Crop all faces found\n",
    "    for (x,y,w,h) in faces:\n",
    "        cv2.rectangle(frame,(x,y),(x+w,y+h),(0,200,0),2)\n",
    "        cropped_face = frame[y:y+h, x:x+w]\n",
    "    face=cropped_face\n",
    "        \n",
    "        \n",
    "    cv2.putText(frame,\"Press 'q' to quit\", (30, 30), cv2.FONT_HERSHEY_DUPLEX, 0.6, (0,0,0), 2)\n",
    "    \n",
    "    if type(face) is np.ndarray:\n",
    "        face = cv2.resize(face, (224, 224))\n",
    "        im = Image.fromarray(face, 'RGB')\n",
    "        img_array = np.array(im)\n",
    "        img_array = np.expand_dims(img_array, axis=0)\n",
    "        pred = model.predict(img_array)\n",
    "\n",
    "        pid = np.argmax(pred,axis=1)[0]\n",
    "        name=\"None matching\"\n",
    "        name = people[pid]\n",
    "            \n",
    "        cv2.putText(frame,name, (x, y-7), cv2.FONT_HERSHEY_SIMPLEX, 0.6, (0,200,0), 2)\n",
    "    \n",
    "    cv2.imshow('Video', frame)\n",
    "    if cv2.waitKey(1) & 0xFF == ord('q'):\n",
    "        break\n",
    "video_capture.release()\n",
    "cv2.destroyAllWindows()\n"
   ]
  },
  {
   "cell_type": "code",
   "execution_count": null,
   "metadata": {},
   "outputs": [],
   "source": []
  }
 ],
 "metadata": {
  "accelerator": "GPU",
  "colab": {
   "name": "Face-Recog.ipynb",
   "provenance": []
  },
  "kernelspec": {
   "display_name": "Python 3",
   "language": "python",
   "name": "python3"
  },
  "language_info": {
   "codemirror_mode": {
    "name": "ipython",
    "version": 3
   },
   "file_extension": ".py",
   "mimetype": "text/x-python",
   "name": "python",
   "nbconvert_exporter": "python",
   "pygments_lexer": "ipython3",
   "version": "3.6.9"
  }
 },
 "nbformat": 4,
 "nbformat_minor": 1
}
