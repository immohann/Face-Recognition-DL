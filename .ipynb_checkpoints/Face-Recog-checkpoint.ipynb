{
 "cells": [
  {
   "cell_type": "markdown",
   "metadata": {},
   "source": [
    "# Face-Recognition \n",
    "A face detector using Deep Learning with OpenCV "
   ]
  },
  {
   "cell_type": "markdown",
   "metadata": {},
   "source": [
    "### 1. Register face\n",
    "Below steps are performed to collect the face samples of a person and save it in the database."
   ]
  },
  {
   "cell_type": "code",
   "execution_count": 36,
   "metadata": {},
   "outputs": [],
   "source": [
    "#import required libraries\n",
    "import cv2\n",
    "import sys , os\n",
    "import numpy as np\n",
    "##############################################\n",
    "#setting up the dataset files\n",
    "# It captures images and stores them in datasets  \n",
    "# folder under the folder name of sub_dir \n",
    "haar_file = 'haarcascade_frontalface_default.xml'\n",
    "# All the faces data will be \n",
    "#  present this folder \n",
    "train = 'datasets/train'  \n",
    "validation='datasets/validation'\n",
    "###############################################\n",
    "# These are sub data sets of folder,  \n",
    "# for my faces I've used my name you can  \n",
    "# change the label here \n",
    "sub_dir = input('Enter Name to Register Face: ')\n",
    "###############################################\n",
    "# setting path for storing the images in train and test set\n",
    "dataset='dataset'\n",
    "train = 'dataset/train'  \n",
    "validation='dataset/validation'\n",
    "\n",
    "if not os.path.isdir(dataset): \n",
    "    os.mkdir(dataset) \n",
    "\n",
    "if not os.path.isdir(train): \n",
    "    os.mkdir(train) \n",
    "\n",
    "if not os.path.isdir(validation): \n",
    "    os.mkdir(validation) \n",
    "\n",
    "path1 = os.path.join(train, sub_dir) \n",
    "path2=os.path.join(validation, sub_dir) \n",
    "if not os.path.isdir(path1): \n",
    "    os.mkdir(path1) \n",
    "if not os.path.isdir(path2): \n",
    "    os.mkdir(path2) \n",
    "#################################################\n",
    "# defining the size of images  \n",
    "(width, height) = (400, 400)  \n",
    "#################################################\n",
    "#'0' is used for my webcam,  \n",
    "# if you've any other camera \n",
    "#  attached use '1' like this \n",
    "face_cascade = cv2.CascadeClassifier(haar_file) \n",
    "webcam = cv2.VideoCapture(0) \n",
    "#################################################\n",
    "# this function is created in order to avoid overwriting of images\n",
    "# by keeping the count of the files already in the mentioned directory\n",
    "def get_max(l):\n",
    "    number = []\n",
    "    for word in l:\n",
    "        temp = ''\n",
    "        for letter in word:\n",
    "            if letter != '.':\n",
    "                temp += letter\n",
    "            else:\n",
    "                break\n",
    "        number.append(int(temp))\n",
    "\n",
    "    return max(number)\n",
    "#####################################################\n",
    "# The program loops until it has 50 images of the face. \n",
    "path='dataset/train/'+sub_dir\n",
    "if os.listdir(path):\n",
    "    count = get_max(os.listdir(path))\n",
    "else:\n",
    "    count = 0\n",
    "\n",
    "num_img = count + 50\n",
    "\n",
    "split=0.8\n",
    "mid=num_img//2\n",
    "split_train=split*num_img\n",
    "split_test=(1-split)*num_img\n",
    "\n",
    "count = 1\n",
    "while count < num_img:  \n",
    "    (_, im) = webcam.read() \n",
    "    gray = cv2.cvtColor(im, cv2.COLOR_BGR2GRAY) \n",
    "    faces = face_cascade.detectMultiScale(gray, 1.3, 4) \n",
    "    for (x, y, w, h) in faces: \n",
    "        cv2.rectangle(im, (x, y), (x + w+20, y + h+20), (0, 0, 0), 2) \n",
    "        face = gray[y:y + h, x:x + w] \n",
    "        face_resize = cv2.resize(face, (width, height)) \n",
    "    \n",
    "        if count>mid and count <mid+split_test:\n",
    "            cv2.imwrite('% s/% s.jpg' % (path2, count), face_resize)\n",
    "        else:\n",
    "            cv2.imwrite('% s/% s.jpg' % (path1, count), face_resize) \n",
    "    \n",
    "        \n",
    "        \n",
    "      #  cv2.imwrite('% s/% s.jpg' % (path, count), face_resize) \n",
    "    count += 1\n",
    "      \n",
    "    cv2.imshow('OpenCV', im) \n",
    "    key = cv2.waitKey(10) \n",
    "    if key == 27: \n",
    "        break\n",
    "webcam.release()\n",
    "cv2.destroyAllWindows()      \n",
    "print(\"Collecting Samples Complete\")\n",
    "#######################################################"
   ]
  },
  {
   "cell_type": "markdown",
   "metadata": {},
   "source": [
    "______________________________________"
   ]
  },
  {
   "cell_type": "markdown",
   "metadata": {},
   "source": [
    "### 2. Train on pretrained models "
   ]
  },
  {
   "cell_type": "code",
   "execution_count": null,
   "metadata": {},
   "outputs": [],
   "source": []
  },
  {
   "cell_type": "code",
   "execution_count": null,
   "metadata": {},
   "outputs": [],
   "source": []
  },
  {
   "cell_type": "code",
   "execution_count": null,
   "metadata": {},
   "outputs": [],
   "source": []
  },
  {
   "cell_type": "code",
   "execution_count": null,
   "metadata": {},
   "outputs": [],
   "source": []
  },
  {
   "cell_type": "code",
   "execution_count": null,
   "metadata": {},
   "outputs": [],
   "source": []
  },
  {
   "cell_type": "code",
   "execution_count": null,
   "metadata": {},
   "outputs": [],
   "source": []
  },
  {
   "cell_type": "code",
   "execution_count": null,
   "metadata": {},
   "outputs": [],
   "source": []
  }
 ],
 "metadata": {
  "kernelspec": {
   "display_name": "Python 3",
   "language": "python",
   "name": "python3"
  },
  "language_info": {
   "codemirror_mode": {
    "name": "ipython",
    "version": 3
   },
   "file_extension": ".py",
   "mimetype": "text/x-python",
   "name": "python",
   "nbconvert_exporter": "python",
   "pygments_lexer": "ipython3",
   "version": "3.6.9"
  }
 },
 "nbformat": 4,
 "nbformat_minor": 4
}
